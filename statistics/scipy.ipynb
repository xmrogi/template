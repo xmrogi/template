{
 "cells": [
  {
   "cell_type": "code",
   "execution_count": 11,
   "metadata": {},
   "outputs": [],
   "source": [
    "from scipy import stats\n",
    "import numpy as np\n",
    "import pandas as pd\n",
    "import matplotlib.pyplot as plt"
   ]
  },
  {
   "cell_type": "code",
   "execution_count": 516,
   "metadata": {},
   "outputs": [
    {
     "name": "stdout",
     "output_type": "stream",
     "text": [
      "0.9842096407650001 0.023617689920728536\n",
      "母平均が0.976のt値：1.0428167351534319\n",
      "母平均が0.976である確率(p値)：0.32423387527604297\n",
      "0.9298731279550293 1.0701268720449708\n"
     ]
    },
    {
     "data": {
      "image/png": "[encoded data removed]",
      "text/plain": [
       "<Figure size 432x288 with 1 Axes>"
      ]
     },
     "metadata": {
      "needs_background": "light"
     },
     "output_type": "display_data"
    }
   ],
   "source": [
    "\"\"\"1標本t検定\"\"\"\n",
    "# 分布の中心, 標準偏差\n",
    "center = 1\n",
    "sigma = 0.031\n",
    "# 比較する標本の位置\n",
    "pos = 0.976\n",
    "# サンプル数\n",
    "u = 10\n",
    "\n",
    "\n",
    "y = np.random.normal(loc=center, scale=sigma, size=u)\n",
    "print(np.average(y), np.std(y))\n",
    "\n",
    "# t値とp値を求める\n",
    "t, p = stats.ttest_1samp(y, popmean=pos)\n",
    "print(f'母平均が{pos}のt値：'+str(t))\n",
    "print(f'母平均が{pos}である確率(p値)：'+str(p))\n",
    "    \n",
    "\n",
    "# サンプル数、自由度\n",
    "n, k = len(y), u-1\n",
    "\n",
    "############################\n",
    "fig = plt.figure(figsize=(6, 4))\n",
    "ax = fig.add_subplot(111)\n",
    "\n",
    "# t分布を描画する\n",
    "x = np.linspace(center-1.3, center+1.3, 100)\n",
    "ax.plot(x, stats.t.pdf(x, k, loc=center, scale=sigma))\n",
    "\n",
    "#　分布のt値\n",
    "ax.plot(t, stats.t.pdf(t, k, loc=center, scale=sigma), 'x', color='red', markersize=10)\n",
    "# ax.plot(t, stats.t.pdf(t, k, loc=center, scale=sigma), 'x', color='red', markersize=10)\n",
    "\n",
    "# t分布の95%信頼区間から外れた領域を描画する\n",
    "bottom, up = stats.t.interval(alpha=0.95, df=k, loc=center, scale=sigma)\n",
    "print(bottom, up)\n",
    "plt.fill_between(x, stats.t.pdf(x, k, loc=center, scale=sigma), \n",
    "                 0, where=(x>=up)|(x<=bottom), facecolor='black', alpha=0.2)\n",
    "\n",
    "plt.show()"
   ]
  },
  {
   "cell_type": "code",
   "execution_count": 524,
   "metadata": {},
   "outputs": [
    {
     "name": "stdout",
     "output_type": "stream",
     "text": [
      "[997.   0.   1.   0.   0.   0.   1.   0.   0.   1.]\n",
      "[1.22816168e-22 1.63154839e-04 3.26309677e-04 4.89464516e-04\n",
      " 6.52619355e-04 8.15774193e-04 9.78929032e-04 1.14208387e-03\n",
      " 1.30523871e-03 1.46839355e-03 1.63154839e-03]\n"
     ]
    },
    {
     "data": {
      "image/png": "[encoded data removed]",
      "text/plain": [
       "<Figure size 432x288 with 1 Axes>"
      ]
     },
     "metadata": {
      "needs_background": "light"
     },
     "output_type": "display_data"
    }
   ],
   "source": [
    "# 分布の中心, 標準偏差\n",
    "center = 0.9999\n",
    "sigma = 0.031\n",
    "# 比較する標本の位置\n",
    "pos = 0.989\n",
    "# サンプル数\n",
    "u = 350\n",
    "\n",
    "a = []\n",
    "for i in range(1000):\n",
    "    y = np.random.normal(loc=center, scale=sigma, size=u)\n",
    "    # t値とp値を求める\n",
    "    t, p = stats.ttest_1samp(y, popmean=pos)\n",
    "    a.append(p)\n",
    "    \n",
    "fig = plt.figure(figsize=(6, 4))\n",
    "ax = fig.add_subplot(111)\n",
    "n1, bins1, patches1 = ax.hist(a)\n",
    "print(n1)\n",
    "print(bins1)"
   ]
  },
  {
   "cell_type": "code",
   "execution_count": null,
   "metadata": {},
   "outputs": [],
   "source": []
  },
  {
   "cell_type": "code",
   "execution_count": 41,
   "metadata": {},
   "outputs": [
    {
     "name": "stdout",
     "output_type": "stream",
     "text": [
      "0.0077777489552039135\n",
      "0.9797432849433356\n",
      "0.020256715056664387\n",
      "(1.237344245791203, 14.44937533544792)\n"
     ]
    },
    {
     "data": {
      "image/png": "[encoded data removed]",
      "text/plain": [
       "<Figure size 432x288 with 1 Axes>"
      ]
     },
     "metadata": {
      "needs_background": "light"
     },
     "output_type": "display_data"
    }
   ],
   "source": [
    "\"\"\"カイ二乗分布\"\"\"\n",
    "from scipy.stats import chi2\n",
    "\n",
    "x = chi2.rvs(df=6, loc=0, scale=1, size=1000)\n",
    "\n",
    "fig = plt.figure(figsize=(6, 4))\n",
    "ax = fig.add_subplot(111)\n",
    "n1, bins1, patches1 = ax.hist(x, bins=30, range=(0, 30))\n",
    "\n",
    "# 確率密度関数\n",
    "print(chi2.pdf(df=6, x=15.0, loc=0, scale=1))\n",
    "\n",
    "# 累積分布関数\n",
    "print(chi2.cdf(df=6, x=15.0, loc=0, scale=1))\n",
    "\n",
    "# 生存関数(1-累積分布関数)\n",
    "print(chi2.sf(df=6, x=15.0, loc=0, scale=1))\n",
    "\n",
    "# インターバル関数\n",
    "print(chi2.interval(df=6, alpha=0.95, loc=0, scale=1))"
   ]
  },
  {
   "cell_type": "code",
   "execution_count": null,
   "metadata": {},
   "outputs": [],
   "source": []
  },
  {
   "cell_type": "code",
   "execution_count": null,
   "metadata": {},
   "outputs": [],
   "source": []
  },
  {
   "cell_type": "code",
   "execution_count": null,
   "metadata": {},
   "outputs": [],
   "source": []
  },
  {
   "cell_type": "code",
   "execution_count": null,
   "metadata": {},
   "outputs": [],
   "source": []
  },
  {
   "cell_type": "code",
   "execution_count": null,
   "metadata": {},
   "outputs": [],
   "source": []
  },
  {
   "cell_type": "code",
   "execution_count": null,
   "metadata": {},
   "outputs": [],
   "source": []
  }
 ],
 "metadata": {
  "kernelspec": {
   "display_name": "Python 3",
   "language": "python",
   "name": "python3"
  },
  "language_info": {
   "codemirror_mode": {
    "name": "ipython",
    "version": 3
   },
   "file_extension": ".py",
   "mimetype": "text/x-python",
   "name": "python",
   "nbconvert_exporter": "python",
   "pygments_lexer": "ipython3",
   "version": "3.8.3"
  }
 },
 "nbformat": 4,
 "nbformat_minor": 4
}
