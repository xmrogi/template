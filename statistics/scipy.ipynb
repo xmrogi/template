{
 "cells": [
  {
   "cell_type": "code",
   "execution_count": 1,
   "metadata": {},
   "outputs": [],
   "source": [
    "from scipy import stats\n",
    "import numpy as np\n",
    "import pandas as pd\n",
    "import matplotlib.pyplot as plt"
   ]
  },
  {
   "cell_type": "code",
   "execution_count": 332,
   "metadata": {},
   "outputs": [
    {
     "name": "stdout",
     "output_type": "stream",
     "text": [
      "母平均が0のt値：1.8831835371085341\n",
      "母平均が0である確率(p値)：0.06460776251906188\n"
     ]
    },
    {
     "data": {
      "image/png": "[encoded data removed]",
      "text/plain": [
       "<Figure size 432x288 with 1 Axes>"
      ]
     },
     "metadata": {
      "needs_background": "light"
     },
     "output_type": "display_data"
    }
   ],
   "source": [
    "\"\"\"1標本t検定\"\"\"\n",
    "# 分布の中心, 標準偏差\n",
    "center = 1\n",
    "sigma = 4\n",
    "# 比較する標本の位置\n",
    "pos = 0\n",
    "\n",
    "# t値とp値を求める\n",
    "t, p = stats.ttest_1samp(y, popmean=pos)\n",
    "print(f'母平均が{pos}のt値：'+str(t))\n",
    "print(f'母平均が{pos}である確率(p値)：'+str(p))\n",
    "\n",
    "# サンプル数、由度\n",
    "n, k = len(y), n-1\n",
    "\n",
    "############################\n",
    "fig = plt.figure(figsize=(6, 4))\n",
    "ax = fig.add_subplot(111)\n",
    "\n",
    "# t分布を描画する\n",
    "x = np.linspace(-5, 5, 100)\n",
    "ax.plot(x, stats.t.pdf(x, k))\n",
    "\n",
    "#　分布のt値\n",
    "ax.plot(t, stats.t.pdf(t, k), 'x', color='red', markersize=10)\n",
    "\n",
    "# t分布の95%信頼区間から外れた領域を描画する\n",
    "bottom, up = stats.norm.interval(alpha=0.95)\n",
    "plt.fill_between(x, stats.t.pdf(x, k), \n",
    "                 0, where=(x>=up)|(x<=bottom), facecolor='black', alpha=0.2)\n",
    "\n",
    "plt.show()"
   ]
  },
  {
   "cell_type": "code",
   "execution_count": null,
   "metadata": {},
   "outputs": [],
   "source": []
  },
  {
   "cell_type": "code",
   "execution_count": null,
   "metadata": {},
   "outputs": [],
   "source": []
  },
  {
   "cell_type": "code",
   "execution_count": null,
   "metadata": {},
   "outputs": [],
   "source": []
  },
  {
   "cell_type": "code",
   "execution_count": null,
   "metadata": {},
   "outputs": [],
   "source": []
  },
  {
   "cell_type": "code",
   "execution_count": null,
   "metadata": {},
   "outputs": [],
   "source": []
  },
  {
   "cell_type": "code",
   "execution_count": null,
   "metadata": {},
   "outputs": [],
   "source": []
  },
  {
   "cell_type": "code",
   "execution_count": null,
   "metadata": {},
   "outputs": [],
   "source": []
  }
 ],
 "metadata": {
  "kernelspec": {
   "display_name": "Python 3",
   "language": "python",
   "name": "python3"
  },
  "language_info": {
   "codemirror_mode": {
    "name": "ipython",
    "version": 3
   },
   "file_extension": ".py",
   "mimetype": "text/x-python",
   "name": "python",
   "nbconvert_exporter": "python",
   "pygments_lexer": "ipython3",
   "version": "3.8.3"
  }
 },
 "nbformat": 4,
 "nbformat_minor": 4
}
