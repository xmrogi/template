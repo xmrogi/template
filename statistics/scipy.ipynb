{
 "cells": [
  {
   "cell_type": "code",
   "execution_count": 343,
   "metadata": {},
   "outputs": [],
   "source": [
    "from scipy import stats\n",
    "import numpy as np\n",
    "import pandas as pd\n",
    "import matplotlib.pyplot as plt"
   ]
  },
  {
   "cell_type": "code",
   "execution_count": 368,
   "metadata": {},
   "outputs": [
    {
     "name": "stdout",
     "output_type": "stream",
     "text": [
      "母平均が10のt値：-2.499745224123042\n",
      "母平均が10である確率(p値)：0.016744120865409624\n",
      "-0.09076364693891215 16.09076364693891\n"
     ]
    },
    {
     "data": {
      "image/png": "[encoded data removed]",
      "text/plain": [
       "<Figure size 432x288 with 1 Axes>"
      ]
     },
     "metadata": {
      "needs_background": "light"
     },
     "output_type": "display_data"
    }
   ],
   "source": [
    "\"\"\"1標本t検定\"\"\"\n",
    "# 分布の中心, 標準偏差\n",
    "center = 8\n",
    "sigma = 4\n",
    "# 比較する標本の位置\n",
    "pos = 10\n",
    "# サンプル数\n",
    "u = 40\n",
    "\n",
    "y = np.random.normal(center, sigma, u)\n",
    "\n",
    "# t値とp値を求める\n",
    "t, p = stats.ttest_1samp(y, popmean=pos)\n",
    "print(f'母平均が{pos}のt値：'+str(t))\n",
    "print(f'母平均が{pos}である確率(p値)：'+str(p))\n",
    "\n",
    "# サンプル数、自由度\n",
    "n, k = len(y), u-1\n",
    "\n",
    "############################\n",
    "fig = plt.figure(figsize=(6, 4))\n",
    "ax = fig.add_subplot(111)\n",
    "\n",
    "# t分布を描画する\n",
    "x = np.linspace(center-20, center+20, 100)\n",
    "ax.plot(x, stats.t.pdf(x, k, loc=center, scale=sigma))\n",
    "\n",
    "#　分布のt値\n",
    "ax.plot(t, stats.t.pdf(t, k, loc=center, scale=sigma), 'x', color='red', markersize=10)\n",
    "\n",
    "# t分布の95%信頼区間から外れた領域を描画する\n",
    "bottom, up = stats.t.interval(alpha=0.95, df=k, loc=center, scale=sigma)\n",
    "print(bottom, up)\n",
    "plt.fill_between(x, stats.t.pdf(x, k, loc=center, scale=sigma), \n",
    "                 0, where=(x>=up)|(x<=bottom), facecolor='black', alpha=0.2)\n",
    "\n",
    "plt.show()"
   ]
  },
  {
   "cell_type": "code",
   "execution_count": null,
   "metadata": {},
   "outputs": [],
   "source": []
  },
  {
   "cell_type": "code",
   "execution_count": null,
   "metadata": {},
   "outputs": [],
   "source": []
  },
  {
   "cell_type": "code",
   "execution_count": null,
   "metadata": {},
   "outputs": [],
   "source": []
  },
  {
   "cell_type": "code",
   "execution_count": null,
   "metadata": {},
   "outputs": [],
   "source": []
  },
  {
   "cell_type": "code",
   "execution_count": null,
   "metadata": {},
   "outputs": [],
   "source": []
  },
  {
   "cell_type": "code",
   "execution_count": null,
   "metadata": {},
   "outputs": [],
   "source": []
  },
  {
   "cell_type": "code",
   "execution_count": null,
   "metadata": {},
   "outputs": [],
   "source": []
  }
 ],
 "metadata": {
  "kernelspec": {
   "display_name": "Python 3",
   "language": "python",
   "name": "python3"
  },
  "language_info": {
   "codemirror_mode": {
    "name": "ipython",
    "version": 3
   },
   "file_extension": ".py",
   "mimetype": "text/x-python",
   "name": "python",
   "nbconvert_exporter": "python",
   "pygments_lexer": "ipython3",
   "version": "3.8.3"
  }
 },
 "nbformat": 4,
 "nbformat_minor": 4
}
